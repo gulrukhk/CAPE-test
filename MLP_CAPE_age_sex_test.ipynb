{
 "cells": [
  {
   "cell_type": "markdown",
   "metadata": {},
   "source": [
    "# Contrasting by Patient Augmented Electrocardiograms (CAPE)\n",
    "This is a small demonstrating the out-of-distribution (OOD) performance for an MLP trained on ECG features generated using CAPE model with and without in-distribution-batch (IDB) pretrained on BCSV dataset. The MLP model is trained on labels for BIDMC dataset and tested for open source ECG datasets of CODE15 (https://zenodo.org/records/4916206), and PTBXL (https://physionet.org/content/ptb-xl/1.0.1/) datasets. The test shows that for the CODE15 there is a significant deterioration in the performance that is mitigated by incorporating IDB."
   ]
  },
  {
   "cell_type": "markdown",
   "metadata": {},
   "source": [
    "Importing required libraries"
   ]
  },
  {
   "cell_type": "code",
   "execution_count": 23,
   "metadata": {},
   "outputs": [],
   "source": [
    "import sys\n",
    "import h5py\n",
    "import utils as u\n",
    "import os\n",
    "os.environ['TF_CPP_MIN_LOG_LEVEL'] = '3' \n",
    "import tensorflow as tf\n",
    "tf.get_logger().setLevel('ERROR')\n",
    "from tensorflow.keras.optimizers import Adam\n",
    "from tensorflow.keras.models import load_model, Model\n",
    "from sklearn.metrics import *\n",
    "import time\n",
    "import pandas as pd\n",
    "import random\n",
    "import numpy as np\n",
    "import math\n",
    "random.seed(10)\n",
    "import glob\n",
    "import sklearn\n"
   ]
  },
  {
   "cell_type": "markdown",
   "metadata": {},
   "source": [
    "Testing the MLP trained on BIDMC for the external datasets"
   ]
  },
  {
   "cell_type": "code",
   "execution_count": 24,
   "metadata": {},
   "outputs": [],
   "source": [
    "class MLP_test:\n",
    "    def __init__(self):\n",
    "        \"\"\"\n",
    "        Testing for multiple datasets.\n",
    "        \"\"\"\n",
    "        self.datapath = 'data/ECGdata/'\n",
    "        self.datasets = ['code15', 'ptb']\n",
    "        featnames = {}\n",
    "        featnames['code15'] = 'CAPE_feats_BTCSV_CODE15.h5'\n",
    "        featnames['ptb'] = 'CAPE_feats_BTCSV_PTBXL.h5'\n",
    "        self.featnames = featnames\n",
    "        datasize = {}\n",
    "        datasize['code15'] = 0\n",
    "        datasize['ptb'] = 0\n",
    "        self.datasize = datasize\n",
    "        self.model_path =os.path.join('MLP_models', 'MLP_CAPE_BTCSV')\n",
    "        self.outdir = 'results'\n",
    "        self.name = f'MLP_code15_age_sex_runs10_seed10_CAPE_BTCSV'\n",
    "        self.ntest = 10000\n",
    "        self.target_labels = ['age', 'sex']\n",
    "        self.r_loss = 'mse'\n",
    "        self.c_loss = 'binary_crossentropy'\n",
    "        self.r_activation = 'sigmoid' \n",
    "        self.c_activation = 'sigmoid'\n",
    "        self.r_metrics = ['mae', 'r2_score']\n",
    "        self.c_metrics = ['AUC', 'f1_score']\n",
    "        self.r_monitor = 'val_mae'\n",
    "        self.c_monitor = 'val_auc'\n",
    "        self.seed = 10\n",
    "        np.random.seed(self.seed)\n",
    "        self.result_dir = os.path.join(self.outdir, self.name)\n",
    "        u.safe_mkdir(self.result_dir)\n",
    "\n",
    "        \n",
    "        data_info = u.get_data_info()\n",
    "        for key in data_info:\n",
    "            data_info[key]['code15']= data_info[key]['code']\n",
    "        data_info['sex']['code15'] = 'is_male'\n",
    "        self.data_info = data_info\n",
    "        training_type = {}\n",
    "        for target in self.target_labels:\n",
    "            training_type[target] = 'regression' if 'age' in target else 'classification'\n",
    "        self.training_type = training_type\n",
    "        \n",
    "        task = {}\n",
    "        task['classification'] = {}\n",
    "        task['classification']['metrics'] = self.c_metrics\n",
    "        task['classification']['loss'] = self.c_loss\n",
    "        task['classification']['activation'] = self.c_activation\n",
    "        task['classification']['monitor'] = self.c_monitor\n",
    "        task['regression'] = {}\n",
    "        task['regression']['metrics'] = self.r_metrics\n",
    "        task['regression']['loss'] = self.r_loss\n",
    "        task['regression']['activation'] = self.r_activation\n",
    "        task['regression']['monitor'] = self.r_monitor\n",
    "        self.task = task\n",
    "        \n",
    "        tparams = {}\n",
    "        tparams['age'] = {}\n",
    "        tparams['age']['lr'] =0.0001\n",
    "        tparams['age']['epochs'] = 100\n",
    "        tparams['age']['hidden'] = [256, 128]\n",
    "        tparams['age']['use_weights'] = 0\n",
    "        tparams['sex'] = {}\n",
    "        tparams['sex']['lr'] =0.0001\n",
    "        tparams['sex']['epochs'] = 100\n",
    "        tparams['sex']['hidden'] = [256, 256]\n",
    "        tparams['sex']['use_weights'] = 1\n",
    "        self.tparams =tparams\n",
    "        \n",
    "        self.scores = {}\n",
    "        self.labels_filename = 'ecg_labels.csv'\n",
    "        \n",
    "    def myshuffle(self, arr):    \n",
    "        np.random.shuffle(arr)\n",
    "        return arr\n",
    "    \n",
    "    def df_describe(self, df, save=1):\n",
    "        df1 = df.describe()\n",
    "        df2 = pd.DataFrame(df.sem()).T\n",
    "        df2.index=['SE']\n",
    "        df_stats = pd.concat([df1, df2], axis=0)\n",
    "        if save: df_stats.to_csv(os.path.join(self.result_dir, 'res_stats.csv'))\n",
    "        return df_stats\n",
    "    \n",
    "    def get_stats(self, score_names = ['AUC', 'mae_years']):\n",
    "        scores = []\n",
    "        labels_auc =[]\n",
    "        labels_mae =[]\n",
    "\n",
    "        file_names = glob.glob(os.path.join(self.result_dir, f'score_*.csv'))\n",
    "        df = pd.DataFrame()  \n",
    "        for j, file_name in enumerate(file_names):\n",
    "            score = pd.read_csv(file_name)\n",
    "            label = os.path.relpath(file_name, self.result_dir)\n",
    "            dlabel = label.split('_')[1]\n",
    "            dataset = label.split('_')[2].replace('.csv', '')\n",
    "            for score_name in score_names:\n",
    "                if score_name in score:           \n",
    "                  if 'age' in dlabel: \n",
    "                    column_name = f'{dataset} {dlabel}'\n",
    "                    df[column_name] =score[score_name]\n",
    "                  else:\n",
    "                    column_name = f'{dataset} {dlabel}'\n",
    "                    df[column_name] = score[score_name]\n",
    "                  if score_name == 'AUC'and column_name not in labels_auc:  labels_auc.append(column_name)\n",
    "                  if score_name == 'mae_years'and column_name not in labels_mae:  labels_mae.append(column_name)\n",
    "        #print(labels_auc, labels_mae)\n",
    "        df['mean AUC'] = df[labels_auc].mean(numeric_only=True, axis=1)\n",
    "        df['mean MAE'] = df[labels_mae].mean(numeric_only=True, axis=1)\n",
    "        return df\n",
    "    \n",
    "    def get_pred(self, label):\n",
    "        y = []\n",
    "        y_pred = []\n",
    "        file_names = glob.glob(os.path.join(self.result_dir, f'predictions_{label}_*.csv'))\n",
    "        df = pd.DataFrame()  \n",
    "        for j, file_name in enumerate(file_names):\n",
    "            df = pd.read_csv(file_name)\n",
    "            label = os.path.relpath(file_name, self.result_dir)\n",
    "            dlabel = label.split('_')[1]\n",
    "            dataset = label.split('_')[2].replace('.csv', '')\n",
    "            y.append(df['y_test'])\n",
    "            y_pred.append(df['y_pred'])\n",
    "        return y, y_pred\n",
    "        \n",
    "    def testmlp(self, runs=1, verbose=0):\n",
    "        for dataset in self.datasets:    \n",
    "            dataset_dir = os.path.join(self.result_dir, dataset)\n",
    "            u.safe_mkdir(dataset_dir)\n",
    "\n",
    "            data_dir = os.path.join(self.datapath, dataset)\n",
    "\n",
    "            df = pd.read_csv(os.path.join(data_dir, self.labels_filename))\n",
    "            idx_test = pd.DataFrame(df[self.data_info['filename'][dataset]])              \n",
    "            if not self.ntest: self.ntest = len(idx_test)\n",
    "            self.scores[dataset] = {}\n",
    "            for label in self.target_labels:\n",
    "                df_preds = pd.DataFrame()\n",
    "                self.scores[dataset][label]={}\n",
    "                dlabel = self.data_info[label][dataset] if label in self.data_info else label\n",
    "                label_dir = os.path.join(self.model_path, label)\n",
    "                datalabel_dir = os.path.join(dataset_dir, label.replace(\"/\", \"_\"))\n",
    "                u.safe_mkdir(datalabel_dir)\n",
    "\n",
    "                if label == 'sex':\n",
    "                  if df[dlabel].dtype == 'object':\n",
    "                    class_name = pd.Categorical(df[dlabel]).categories.tolist()\n",
    "                    df[dlabel] = pd.Categorical(df[dlabel]).codes\n",
    "                  else:\n",
    "                    class_names = ['MALE', 'FEMALE']\n",
    "                else:\n",
    "                  class_names = [0, 1]\n",
    "\n",
    "                train_type = self.training_type[label]\n",
    "                metrics = self.task[train_type]['metrics']\n",
    "                monitor = self.task[train_type]['monitor']\n",
    "                activation = self.task[train_type]['activation']\n",
    "                loss = self.task[train_type]['loss']\n",
    "                param_label = label if label in self.tparams else 'sex'\n",
    "\n",
    "                t_metrics = metrics\n",
    "\n",
    "                for metric in metrics:\n",
    "                    self.scores[dataset][label][metric] = []\n",
    "                if train_type == 'regression':\n",
    "                  self.scores[dataset][label]['mae_years'] = []\n",
    "                else:\n",
    "                  self.scores[dataset][label]['w_acc']=[]        \n",
    "\n",
    "                for run in np.arange(runs):\n",
    "                    df_run = pd.DataFrame()\n",
    "\n",
    "                    test_indices = u.get_indices_from_ids(df, idx_test[self.data_info['filename'][dataset]], id=self.data_info['filename'][dataset])\n",
    "                    if self.datasize[dataset]> 0: test_indices = test_indices[test_indices<self.datasize[dataset]]\n",
    "                    if run==0: test_indices = np.sort(self.myshuffle(test_indices)[:self.ntest])\n",
    "                    df_run['ind'] = test_indices\n",
    "                    df_run['run'] = [run] * len(test_indices)\n",
    "                    if verbose: print(f'{dataset} test size ={len(test_indices)}')\n",
    "                    feat_file = os.path.join('feats', dataset, self.featnames[dataset])\n",
    "                    if verbose: print(f'reading h5 feats from {feat_file}')\n",
    "                    hf = h5py.File(feat_file, 'r') \n",
    "                    X_test = np.array(hf.get('feats')[test_indices])\n",
    "                    if verbose: print(f'feats are loaded from {data_dir} with shape = {X_test.shape}')\n",
    "                    if verbose: print(f'mean {np.mean(X_test)} std {np.std(X_test)}')\n",
    "                    norm_dir = os.path.join(self.model_path, 'normalization_params')\n",
    "                    meanf = np.load(os.path.join(norm_dir, 'data_mean.npy'))\n",
    "                    stdf = np.load(os.path.join(norm_dir, 'data_std.npy'))\n",
    "                    if verbose: print(f'normalized by mean and std')\n",
    "                    X_test = np.where(stdf>0, (X_test - meanf)/stdf, 0)\n",
    "                    if verbose: print(f'mean {np.mean(X_test)} std {np.std(X_test)}')\n",
    "\n",
    "                    y_test = np.array(df[dlabel])[test_indices].astype(np.float32)\n",
    "                    if verbose: print(f'labels loaded for {dlabel}: test shape = {y_test.shape}')\n",
    "                    if verbose: print(f'Number of test instances: {len(X_test)}')\n",
    "                    if train_type == 'regression':\n",
    "                      maxl = 107 #np.max(y_train)\n",
    "                      minl = 7 #np.min(y_train)\n",
    "                      if dataset == 'ptb':\n",
    "                          y_test[y_test>90] = 95\n",
    "\n",
    "                      y_test = (y_test - minl)/(maxl- minl)\n",
    "                    else:\n",
    "                      if label=='sex' and dataset not in ['bidmc', 'ptb']: \n",
    "                        y_test = 1-y_test\n",
    "                        print('label inverted')\n",
    "\n",
    "                    in_shape = (X_test.shape[1],)\n",
    "                    out_shape = (None, )\n",
    "\n",
    "                    datarun_dir = os.path.join(datalabel_dir, f'run{run+1}')\n",
    "                    u.safe_mkdir(datarun_dir)\n",
    "                    ecg_model= u.build_MLP(input_shape=in_shape, out_size=1, out_activation=activation, units = self.tparams[param_label]['hidden'])\n",
    "                    if param_label in self.tparams: lr_param = self.tparams[param_label]['lr']\n",
    "                    else: lr_param = lr\n",
    "                    opt = Adam(learning_rate=lr_param)\n",
    "                    ecg_model.compile(loss=loss,\n",
    "                                  metrics= metrics[:-1],\n",
    "                                  optimizer=opt)\n",
    "                    model_label = self.data_info[label]['bidmc']\n",
    "                    ecg_model.load_weights(os.path.join(self.model_path, label, f'run{run+1}', 'best_model'))\n",
    "                    #ecg_model.summary()\n",
    "\n",
    "                    test_metrics = ecg_model.evaluate(X_test, y_test, batch_size=64)\n",
    "                    test_metrics = dict(zip([('test_' + metric) for metric in ecg_model.metrics_names], test_metrics))\n",
    "                    if verbose: print('test_metrics', test_metrics)\n",
    "                    y_pred = np.squeeze(ecg_model.predict(X_test, batch_size=64))\n",
    "                    if train_type == 'regression':\n",
    "                       y_test, y_pred= np.squeeze(y_test), np.squeeze(y_pred)\n",
    "                       y_test_age = minl + (y_test * (maxl-minl))\n",
    "                       y_pred_age = minl + (y_pred * (maxl-minl))\n",
    "                       #mae_age = np.mean(np.absolute(y_test_age - y_pred_age))\n",
    "                       if dataset == 'ptb':\n",
    "                            ind = y_test_age<95\n",
    "                            mae_age = np.mean(np.absolute(y_test_age[ind] - y_pred_age[ind]))\n",
    "                       else:\n",
    "                            mae_age = np.mean(np.absolute(y_test_age - y_pred_age))\n",
    "                       r2_score = u.regression_test(y_test_age, y_pred_age, datarun_dir, label=label.replace(\"/\", \"_\"))\n",
    "                       for m in metrics[:-1]:\n",
    "                         self.scores[dataset][label][m].append(test_metrics[f'test_{m}'])\n",
    "                       self.scores[dataset][label]['r2_score'].append(r2_score)\n",
    "                       self.scores[dataset][label]['mae_years'].append(mae_age)\n",
    "                       df_run['y_test'] = y_test_age\n",
    "                       df_run['y_pred'] = y_pred_age\n",
    "                    else:\n",
    "                       y_test, y_pred= np.squeeze(y_test), np.squeeze(y_pred)\n",
    "                       df_run['y_test'] = y_test\n",
    "                       df_run['y_pred'] = y_pred\n",
    "                       f1_score = u.classification_test(y_test, y_pred, datarun_dir, metrics, names = class_names, label=label.replace(\"/\", \"_\"))\n",
    "                       weighted_acc = balanced_accuracy_score(y_test, np.where(y_pred > 0.5, 1, 0))\n",
    "\n",
    "                       for m in metrics[:-1]:\n",
    "                         if m=='AUC':\n",
    "                            self.scores[dataset][label][m].append(test_metrics[f'test_auc'])\n",
    "                         else:\n",
    "                            self.scores[dataset][label][m].append(test_metrics[f'test_{m}'])\n",
    "                       self.scores[dataset][label]['f1_score'].append(f1_score)\n",
    "                       self.scores[dataset][label]['w_acc'].append(weighted_acc)\n",
    "                    if run == 0:\n",
    "                        df_pred = df_run.copy()\n",
    "                    else:\n",
    "                        df_pred = pd.concat([df_pred, df_run], ignore_index=True)\n",
    "                lines=[]\n",
    "                u.myprint(lines, '==========================================')\n",
    "                u.myprint(lines, f'============  {label} {dataset} =========')\n",
    "                u.myprint(lines, '==========================================')\n",
    "                for m in self.scores[dataset][label]:\n",
    "                   metric = np.array(self.scores[dataset][label][m])\n",
    "                   u.myprint(lines, f'The {m} are {metric}')\n",
    "                   u.myprint(lines, f'The mean {m} for {runs} runs = {np.mean(metric):0.4f} and the std = {np.std(metric):0.4f}')   \n",
    "                #u.myprint(lines, f'The training time = {training_time:0.4f}/epoch and the inference time = {inference_time:0.4f}/ecg')\n",
    "                u.myprint(lines, '==========================================')\n",
    "                u.myprint(lines, '========  Training Configuration =========')\n",
    "                u.myprint(lines, '==========================================')\n",
    "                #lines = u.get_class_config(params, lines)\n",
    "                arch = ['Architecture Summary \\n']\n",
    "                ecg_model.summary(print_fn=lambda x: arch.append(x + '\\n'))\n",
    "                lines = lines + ['\\n'] + arch\n",
    "                #training_params = tparams[param_label]\n",
    "                #lines = lines + ['\\n'] + [f'Training params: {training_params}']\n",
    "                u.to_file(lines, os.path.join(datalabel_dir, 'summary.txt'))\n",
    "                df_label = pd.DataFrame()\n",
    "                df_pred.to_csv(os.path.join(self.result_dir, f'predictions_{label.replace(\"/\", \"_\")}_{dataset}.csv')) \n",
    "                for m in self.scores[dataset][label]:\n",
    "                   df_label[m] = np.array(self.scores[dataset][label][m])\n",
    "                if len(self.scores[dataset][label][m])>0:\n",
    "                   df_label.to_csv(os.path.join(self.result_dir, f'score_{label.replace(\"/\", \"_\")}_{dataset}.csv'))"
   ]
  },
  {
   "cell_type": "markdown",
   "metadata": {},
   "source": [
    "# CAPE Test (test1)\n",
    "Run the tests for MLP traind on CAPE features for BIDMC validated on CODE15 and PTB-XL"
   ]
  },
  {
   "cell_type": "code",
   "execution_count": 25,
   "metadata": {},
   "outputs": [
    {
     "name": "stdout",
     "output_type": "stream",
     "text": [
      "  1/157 [..............................] - ETA: 19s - loss: 0.0489 - mae: 0.1740"
     ]
    },
    {
     "name": "stderr",
     "output_type": "stream",
     "text": [
      "/var/tmp/pbs.1475247.pbs/ipykernel_2306617/4214815170.py:190: RuntimeWarning: invalid value encountered in divide\n",
      "  X_test = np.where(stdf>0, (X_test - meanf)/stdf, 0)\n"
     ]
    },
    {
     "name": "stdout",
     "output_type": "stream",
     "text": [
      "157/157 [==============================] - 0s 610us/step - loss: 0.0379 - mae: 0.1561\n"
     ]
    },
    {
     "name": "stderr",
     "output_type": "stream",
     "text": [
      "/var/tmp/pbs.1475247.pbs/ipykernel_2306617/4214815170.py:190: RuntimeWarning: invalid value encountered in divide\n",
      "  X_test = np.where(stdf>0, (X_test - meanf)/stdf, 0)\n"
     ]
    },
    {
     "name": "stdout",
     "output_type": "stream",
     "text": [
      "5119/5119 [==============================] - 3s 556us/step - loss: 0.0671 - mae: 0.2016\n"
     ]
    },
    {
     "name": "stderr",
     "output_type": "stream",
     "text": [
      "/var/tmp/pbs.1475247.pbs/ipykernel_2306617/4214815170.py:190: RuntimeWarning: invalid value encountered in divide\n",
      "  X_test = np.where(stdf>0, (X_test - meanf)/stdf, 0)\n"
     ]
    },
    {
     "name": "stdout",
     "output_type": "stream",
     "text": [
      "5119/5119 [==============================] - 3s 555us/step - loss: 0.0386 - mae: 0.1585\n"
     ]
    },
    {
     "name": "stderr",
     "output_type": "stream",
     "text": [
      "/var/tmp/pbs.1475247.pbs/ipykernel_2306617/4214815170.py:190: RuntimeWarning: invalid value encountered in divide\n",
      "  X_test = np.where(stdf>0, (X_test - meanf)/stdf, 0)\n"
     ]
    },
    {
     "name": "stdout",
     "output_type": "stream",
     "text": [
      "5119/5119 [==============================] - 3s 557us/step - loss: 0.1321 - mae: 0.2936\n"
     ]
    },
    {
     "name": "stderr",
     "output_type": "stream",
     "text": [
      "/var/tmp/pbs.1475247.pbs/ipykernel_2306617/4214815170.py:190: RuntimeWarning: invalid value encountered in divide\n",
      "  X_test = np.where(stdf>0, (X_test - meanf)/stdf, 0)\n"
     ]
    },
    {
     "name": "stdout",
     "output_type": "stream",
     "text": [
      "5119/5119 [==============================] - 3s 562us/step - loss: 0.1491 - mae: 0.3165\n"
     ]
    },
    {
     "name": "stderr",
     "output_type": "stream",
     "text": [
      "/var/tmp/pbs.1475247.pbs/ipykernel_2306617/4214815170.py:190: RuntimeWarning: invalid value encountered in divide\n",
      "  X_test = np.where(stdf>0, (X_test - meanf)/stdf, 0)\n"
     ]
    },
    {
     "name": "stdout",
     "output_type": "stream",
     "text": [
      "5119/5119 [==============================] - 3s 574us/step - loss: 0.1328 - mae: 0.2911\n"
     ]
    },
    {
     "name": "stderr",
     "output_type": "stream",
     "text": [
      "/var/tmp/pbs.1475247.pbs/ipykernel_2306617/4214815170.py:190: RuntimeWarning: invalid value encountered in divide\n",
      "  X_test = np.where(stdf>0, (X_test - meanf)/stdf, 0)\n"
     ]
    },
    {
     "name": "stdout",
     "output_type": "stream",
     "text": [
      "5119/5119 [==============================] - 3s 562us/step - loss: 0.1812 - mae: 0.3844\n"
     ]
    },
    {
     "name": "stderr",
     "output_type": "stream",
     "text": [
      "/var/tmp/pbs.1475247.pbs/ipykernel_2306617/4214815170.py:190: RuntimeWarning: invalid value encountered in divide\n",
      "  X_test = np.where(stdf>0, (X_test - meanf)/stdf, 0)\n"
     ]
    },
    {
     "name": "stdout",
     "output_type": "stream",
     "text": [
      "5119/5119 [==============================] - 3s 556us/step - loss: 0.0826 - mae: 0.2253\n"
     ]
    },
    {
     "name": "stderr",
     "output_type": "stream",
     "text": [
      "/var/tmp/pbs.1475247.pbs/ipykernel_2306617/4214815170.py:190: RuntimeWarning: invalid value encountered in divide\n",
      "  X_test = np.where(stdf>0, (X_test - meanf)/stdf, 0)\n"
     ]
    },
    {
     "name": "stdout",
     "output_type": "stream",
     "text": [
      "5119/5119 [==============================] - 3s 552us/step - loss: 0.0450 - mae: 0.1696\n"
     ]
    },
    {
     "name": "stderr",
     "output_type": "stream",
     "text": [
      "/var/tmp/pbs.1475247.pbs/ipykernel_2306617/4214815170.py:190: RuntimeWarning: invalid value encountered in divide\n",
      "  X_test = np.where(stdf>0, (X_test - meanf)/stdf, 0)\n"
     ]
    },
    {
     "name": "stdout",
     "output_type": "stream",
     "text": [
      "5119/5119 [==============================] - 3s 557us/step - loss: 0.1171 - mae: 0.2658\n",
      "==========================================\n",
      "============  age code15 =========\n",
      "==========================================\n",
      "The mae are [0.15611589 0.20159546 0.15850863 0.29355425 0.31646055 0.29105297\n",
      " 0.38440642 0.22527088 0.16961408 0.26577222]\n",
      "The mean mae for 10 runs = 0.2462 and the std = 0.0726\n",
      "The r2_score are [ 2.90579873e-02 -7.30791918e-01  3.47318639e-03 -2.40891789e+00\n",
      " -2.84785859e+00 -2.42722697e+00 -3.67507060e+00 -1.13132332e+00\n",
      " -1.60378658e-01 -2.02282112e+00]\n",
      "The mean r2_score for 10 runs = -1.5372 and the std = 1.2495\n",
      "The mae_years are [15.61159  20.159552 15.850844 29.35547  31.646101 29.105364 38.44053\n",
      " 22.5271   16.961388 26.57724 ]\n",
      "The mean mae_years for 10 runs = 24.6235 and the std = 7.2645\n",
      "==========================================\n",
      "========  Training Configuration =========\n",
      "==========================================\n"
     ]
    },
    {
     "name": "stderr",
     "output_type": "stream",
     "text": [
      "/var/tmp/pbs.1475247.pbs/ipykernel_2306617/4214815170.py:190: RuntimeWarning: invalid value encountered in divide\n",
      "  X_test = np.where(stdf>0, (X_test - meanf)/stdf, 0)\n"
     ]
    },
    {
     "name": "stdout",
     "output_type": "stream",
     "text": [
      "label inverted\n",
      "157/157 [==============================] - 0s 787us/step - loss: 7.8211 - auc: 0.5437\n"
     ]
    },
    {
     "name": "stderr",
     "output_type": "stream",
     "text": [
      "/var/tmp/pbs.1475247.pbs/ipykernel_2306617/4214815170.py:190: RuntimeWarning: invalid value encountered in divide\n",
      "  X_test = np.where(stdf>0, (X_test - meanf)/stdf, 0)\n"
     ]
    },
    {
     "name": "stdout",
     "output_type": "stream",
     "text": [
      "label inverted\n",
      "5119/5119 [==============================] - 4s 711us/step - loss: 8.8066 - auc: 0.5583\n"
     ]
    },
    {
     "name": "stderr",
     "output_type": "stream",
     "text": [
      "/var/tmp/pbs.1475247.pbs/ipykernel_2306617/4214815170.py:190: RuntimeWarning: invalid value encountered in divide\n",
      "  X_test = np.where(stdf>0, (X_test - meanf)/stdf, 0)\n"
     ]
    },
    {
     "name": "stdout",
     "output_type": "stream",
     "text": [
      "label inverted\n",
      "5119/5119 [==============================] - 4s 740us/step - loss: 7.9297 - auc: 0.5504\n"
     ]
    },
    {
     "name": "stderr",
     "output_type": "stream",
     "text": [
      "/var/tmp/pbs.1475247.pbs/ipykernel_2306617/4214815170.py:190: RuntimeWarning: invalid value encountered in divide\n",
      "  X_test = np.where(stdf>0, (X_test - meanf)/stdf, 0)\n"
     ]
    },
    {
     "name": "stdout",
     "output_type": "stream",
     "text": [
      "label inverted\n",
      "5119/5119 [==============================] - 4s 775us/step - loss: 7.0450 - auc: 0.6010\n"
     ]
    },
    {
     "name": "stderr",
     "output_type": "stream",
     "text": [
      "/var/tmp/pbs.1475247.pbs/ipykernel_2306617/4214815170.py:190: RuntimeWarning: invalid value encountered in divide\n",
      "  X_test = np.where(stdf>0, (X_test - meanf)/stdf, 0)\n"
     ]
    },
    {
     "name": "stdout",
     "output_type": "stream",
     "text": [
      "label inverted\n",
      "5119/5119 [==============================] - 4s 754us/step - loss: 7.0773 - auc: 0.6288\n"
     ]
    },
    {
     "name": "stderr",
     "output_type": "stream",
     "text": [
      "/var/tmp/pbs.1475247.pbs/ipykernel_2306617/4214815170.py:190: RuntimeWarning: invalid value encountered in divide\n",
      "  X_test = np.where(stdf>0, (X_test - meanf)/stdf, 0)\n"
     ]
    },
    {
     "name": "stdout",
     "output_type": "stream",
     "text": [
      "label inverted\n",
      "5119/5119 [==============================] - 4s 782us/step - loss: 8.2285 - auc: 0.5940\n"
     ]
    },
    {
     "name": "stderr",
     "output_type": "stream",
     "text": [
      "/var/tmp/pbs.1475247.pbs/ipykernel_2306617/4214815170.py:190: RuntimeWarning: invalid value encountered in divide\n",
      "  X_test = np.where(stdf>0, (X_test - meanf)/stdf, 0)\n"
     ]
    },
    {
     "name": "stdout",
     "output_type": "stream",
     "text": [
      "label inverted\n",
      "5119/5119 [==============================] - 4s 804us/step - loss: 6.6161 - auc: 0.6024\n"
     ]
    },
    {
     "name": "stderr",
     "output_type": "stream",
     "text": [
      "/var/tmp/pbs.1475247.pbs/ipykernel_2306617/4214815170.py:190: RuntimeWarning: invalid value encountered in divide\n",
      "  X_test = np.where(stdf>0, (X_test - meanf)/stdf, 0)\n"
     ]
    },
    {
     "name": "stdout",
     "output_type": "stream",
     "text": [
      "label inverted\n",
      "5119/5119 [==============================] - 4s 737us/step - loss: 6.1936 - auc: 0.6951\n"
     ]
    },
    {
     "name": "stderr",
     "output_type": "stream",
     "text": [
      "/var/tmp/pbs.1475247.pbs/ipykernel_2306617/4214815170.py:190: RuntimeWarning: invalid value encountered in divide\n",
      "  X_test = np.where(stdf>0, (X_test - meanf)/stdf, 0)\n"
     ]
    },
    {
     "name": "stdout",
     "output_type": "stream",
     "text": [
      "label inverted\n",
      "5119/5119 [==============================] - 4s 748us/step - loss: 4.2589 - auc: 0.6576\n"
     ]
    },
    {
     "name": "stderr",
     "output_type": "stream",
     "text": [
      "/var/tmp/pbs.1475247.pbs/ipykernel_2306617/4214815170.py:190: RuntimeWarning: invalid value encountered in divide\n",
      "  X_test = np.where(stdf>0, (X_test - meanf)/stdf, 0)\n"
     ]
    },
    {
     "name": "stdout",
     "output_type": "stream",
     "text": [
      "label inverted\n",
      "5119/5119 [==============================] - 4s 785us/step - loss: 7.8696 - auc: 0.5864\n",
      "==========================================\n",
      "============  sex code15 =========\n",
      "==========================================\n",
      "The AUC are [0.54374027 0.55826676 0.55036753 0.6009776  0.62879735 0.59403688\n",
      " 0.60237831 0.69505024 0.65763652 0.58644903]\n",
      "The mean AUC for 10 runs = 0.6018 and the std = 0.0456\n",
      "The f1_score are [0.2894763  0.29195956 0.28942901 0.32022461 0.29034796 0.28981355\n",
      " 0.29154395 0.31987658 0.29225577 0.29014749]\n",
      "The mean f1_score for 10 runs = 0.2965 and the std = 0.0118\n",
      "The w_acc are [0.5008385  0.50153203 0.50047596 0.51415862 0.50090223 0.50069401\n",
      " 0.50131492 0.51398965 0.50161889 0.50081255]\n",
      "The mean w_acc for 10 runs = 0.5036 and the std = 0.0052\n",
      "==========================================\n",
      "========  Training Configuration =========\n",
      "==========================================\n",
      "  1/157 [..............................] - ETA: 19s - loss: 0.0144 - mae: 0.0750"
     ]
    },
    {
     "name": "stderr",
     "output_type": "stream",
     "text": [
      "/var/tmp/pbs.1475247.pbs/ipykernel_2306617/4214815170.py:190: RuntimeWarning: invalid value encountered in divide\n",
      "  X_test = np.where(stdf>0, (X_test - meanf)/stdf, 0)\n"
     ]
    },
    {
     "name": "stdout",
     "output_type": "stream",
     "text": [
      "157/157 [==============================] - 0s 723us/step - loss: 0.0097 - mae: 0.0774\n",
      "  1/341 [..............................] - ETA: 41s - loss: 0.0065 - mae: 0.0615"
     ]
    },
    {
     "name": "stderr",
     "output_type": "stream",
     "text": [
      "/var/tmp/pbs.1475247.pbs/ipykernel_2306617/4214815170.py:190: RuntimeWarning: invalid value encountered in divide\n",
      "  X_test = np.where(stdf>0, (X_test - meanf)/stdf, 0)\n"
     ]
    },
    {
     "name": "stdout",
     "output_type": "stream",
     "text": [
      "341/341 [==============================] - 0s 671us/step - loss: 0.0097 - mae: 0.0774\n",
      "  1/341 [..............................] - ETA: 41s - loss: 0.0068 - mae: 0.0643"
     ]
    },
    {
     "name": "stderr",
     "output_type": "stream",
     "text": [
      "/var/tmp/pbs.1475247.pbs/ipykernel_2306617/4214815170.py:190: RuntimeWarning: invalid value encountered in divide\n",
      "  X_test = np.where(stdf>0, (X_test - meanf)/stdf, 0)\n"
     ]
    },
    {
     "name": "stdout",
     "output_type": "stream",
     "text": [
      "341/341 [==============================] - 0s 641us/step - loss: 0.0098 - mae: 0.0775\n",
      "  1/341 [..............................] - ETA: 41s - loss: 0.0064 - mae: 0.0608"
     ]
    },
    {
     "name": "stderr",
     "output_type": "stream",
     "text": [
      "/var/tmp/pbs.1475247.pbs/ipykernel_2306617/4214815170.py:190: RuntimeWarning: invalid value encountered in divide\n",
      "  X_test = np.where(stdf>0, (X_test - meanf)/stdf, 0)\n"
     ]
    },
    {
     "name": "stdout",
     "output_type": "stream",
     "text": [
      "341/341 [==============================] - 0s 700us/step - loss: 0.0099 - mae: 0.0780\n",
      "  1/341 [..............................] - ETA: 42s - loss: 0.0064 - mae: 0.0599"
     ]
    },
    {
     "name": "stderr",
     "output_type": "stream",
     "text": [
      "/var/tmp/pbs.1475247.pbs/ipykernel_2306617/4214815170.py:190: RuntimeWarning: invalid value encountered in divide\n",
      "  X_test = np.where(stdf>0, (X_test - meanf)/stdf, 0)\n"
     ]
    },
    {
     "name": "stdout",
     "output_type": "stream",
     "text": [
      "341/341 [==============================] - 0s 706us/step - loss: 0.0101 - mae: 0.0784\n",
      "  1/341 [..............................] - ETA: 41s - loss: 0.0066 - mae: 0.0634"
     ]
    },
    {
     "name": "stderr",
     "output_type": "stream",
     "text": [
      "/var/tmp/pbs.1475247.pbs/ipykernel_2306617/4214815170.py:190: RuntimeWarning: invalid value encountered in divide\n",
      "  X_test = np.where(stdf>0, (X_test - meanf)/stdf, 0)\n"
     ]
    },
    {
     "name": "stdout",
     "output_type": "stream",
     "text": [
      "341/341 [==============================] - 0s 672us/step - loss: 0.0097 - mae: 0.0771\n",
      "  1/341 [..............................] - ETA: 40s - loss: 0.0070 - mae: 0.0641"
     ]
    },
    {
     "name": "stderr",
     "output_type": "stream",
     "text": [
      "/var/tmp/pbs.1475247.pbs/ipykernel_2306617/4214815170.py:190: RuntimeWarning: invalid value encountered in divide\n",
      "  X_test = np.where(stdf>0, (X_test - meanf)/stdf, 0)\n"
     ]
    },
    {
     "name": "stdout",
     "output_type": "stream",
     "text": [
      "341/341 [==============================] - 0s 696us/step - loss: 0.0098 - mae: 0.0776\n",
      "  1/341 [..............................] - ETA: 40s - loss: 0.0066 - mae: 0.0624"
     ]
    },
    {
     "name": "stderr",
     "output_type": "stream",
     "text": [
      "/var/tmp/pbs.1475247.pbs/ipykernel_2306617/4214815170.py:190: RuntimeWarning: invalid value encountered in divide\n",
      "  X_test = np.where(stdf>0, (X_test - meanf)/stdf, 0)\n"
     ]
    },
    {
     "name": "stdout",
     "output_type": "stream",
     "text": [
      "341/341 [==============================] - 0s 698us/step - loss: 0.0099 - mae: 0.0777\n",
      "  1/341 [..............................] - ETA: 41s - loss: 0.0061 - mae: 0.0604"
     ]
    },
    {
     "name": "stderr",
     "output_type": "stream",
     "text": [
      "/var/tmp/pbs.1475247.pbs/ipykernel_2306617/4214815170.py:190: RuntimeWarning: invalid value encountered in divide\n",
      "  X_test = np.where(stdf>0, (X_test - meanf)/stdf, 0)\n"
     ]
    },
    {
     "name": "stdout",
     "output_type": "stream",
     "text": [
      "341/341 [==============================] - 0s 665us/step - loss: 0.0099 - mae: 0.0778\n",
      "  1/341 [..............................] - ETA: 41s - loss: 0.0067 - mae: 0.0614"
     ]
    },
    {
     "name": "stderr",
     "output_type": "stream",
     "text": [
      "/var/tmp/pbs.1475247.pbs/ipykernel_2306617/4214815170.py:190: RuntimeWarning: invalid value encountered in divide\n",
      "  X_test = np.where(stdf>0, (X_test - meanf)/stdf, 0)\n"
     ]
    },
    {
     "name": "stdout",
     "output_type": "stream",
     "text": [
      "341/341 [==============================] - 0s 662us/step - loss: 0.0101 - mae: 0.0785\n",
      "==========================================\n",
      "============  age ptb =========\n",
      "==========================================\n",
      "The mae are [0.07741921 0.07736044 0.07747468 0.07798656 0.07841671 0.07708231\n",
      " 0.07758881 0.07768103 0.07780237 0.07849555]\n",
      "The mean mae for 10 runs = 0.0777 and the std = 0.0004\n",
      "The r2_score are [0.66386956 0.66809455 0.66725253 0.66195363 0.65713611 0.67072418\n",
      " 0.6658777  0.66454923 0.66353831 0.65679921]\n",
      "The mean r2_score for 10 runs = 0.6640 and the std = 0.0042\n",
      "The mae_years are [7.575373  7.5782237 7.595416  7.6370707 7.685653  7.5519567 7.6063285\n",
      " 7.613454  7.622829  7.689601 ]\n",
      "The mean mae_years for 10 runs = 7.6156 and the std = 0.0430\n",
      "==========================================\n",
      "========  Training Configuration =========\n",
      "==========================================\n"
     ]
    },
    {
     "name": "stderr",
     "output_type": "stream",
     "text": [
      "/var/tmp/pbs.1475247.pbs/ipykernel_2306617/4214815170.py:190: RuntimeWarning: invalid value encountered in divide\n",
      "  X_test = np.where(stdf>0, (X_test - meanf)/stdf, 0)\n"
     ]
    },
    {
     "name": "stdout",
     "output_type": "stream",
     "text": [
      "157/157 [==============================] - 0s 837us/step - loss: 0.4922 - auc: 0.9381\n"
     ]
    },
    {
     "name": "stderr",
     "output_type": "stream",
     "text": [
      "/var/tmp/pbs.1475247.pbs/ipykernel_2306617/4214815170.py:190: RuntimeWarning: invalid value encountered in divide\n",
      "  X_test = np.where(stdf>0, (X_test - meanf)/stdf, 0)\n"
     ]
    },
    {
     "name": "stdout",
     "output_type": "stream",
     "text": [
      "341/341 [==============================] - 1s 806us/step - loss: 0.4958 - auc: 0.9367\n"
     ]
    },
    {
     "name": "stderr",
     "output_type": "stream",
     "text": [
      "/var/tmp/pbs.1475247.pbs/ipykernel_2306617/4214815170.py:190: RuntimeWarning: invalid value encountered in divide\n",
      "  X_test = np.where(stdf>0, (X_test - meanf)/stdf, 0)\n"
     ]
    },
    {
     "name": "stdout",
     "output_type": "stream",
     "text": [
      "341/341 [==============================] - 1s 825us/step - loss: 0.4940 - auc: 0.9373\n"
     ]
    },
    {
     "name": "stderr",
     "output_type": "stream",
     "text": [
      "/var/tmp/pbs.1475247.pbs/ipykernel_2306617/4214815170.py:190: RuntimeWarning: invalid value encountered in divide\n",
      "  X_test = np.where(stdf>0, (X_test - meanf)/stdf, 0)\n"
     ]
    },
    {
     "name": "stdout",
     "output_type": "stream",
     "text": [
      "341/341 [==============================] - 0s 782us/step - loss: 0.4753 - auc: 0.9382\n"
     ]
    },
    {
     "name": "stderr",
     "output_type": "stream",
     "text": [
      "/var/tmp/pbs.1475247.pbs/ipykernel_2306617/4214815170.py:190: RuntimeWarning: invalid value encountered in divide\n",
      "  X_test = np.where(stdf>0, (X_test - meanf)/stdf, 0)\n"
     ]
    },
    {
     "name": "stdout",
     "output_type": "stream",
     "text": [
      "341/341 [==============================] - 1s 818us/step - loss: 0.4942 - auc: 0.9372\n"
     ]
    },
    {
     "name": "stderr",
     "output_type": "stream",
     "text": [
      "/var/tmp/pbs.1475247.pbs/ipykernel_2306617/4214815170.py:190: RuntimeWarning: invalid value encountered in divide\n",
      "  X_test = np.where(stdf>0, (X_test - meanf)/stdf, 0)\n"
     ]
    },
    {
     "name": "stdout",
     "output_type": "stream",
     "text": [
      "341/341 [==============================] - 1s 801us/step - loss: 0.4923 - auc: 0.9370\n"
     ]
    },
    {
     "name": "stderr",
     "output_type": "stream",
     "text": [
      "/var/tmp/pbs.1475247.pbs/ipykernel_2306617/4214815170.py:190: RuntimeWarning: invalid value encountered in divide\n",
      "  X_test = np.where(stdf>0, (X_test - meanf)/stdf, 0)\n"
     ]
    },
    {
     "name": "stdout",
     "output_type": "stream",
     "text": [
      "341/341 [==============================] - 0s 748us/step - loss: 0.4915 - auc: 0.9371\n"
     ]
    },
    {
     "name": "stderr",
     "output_type": "stream",
     "text": [
      "/var/tmp/pbs.1475247.pbs/ipykernel_2306617/4214815170.py:190: RuntimeWarning: invalid value encountered in divide\n",
      "  X_test = np.where(stdf>0, (X_test - meanf)/stdf, 0)\n"
     ]
    },
    {
     "name": "stdout",
     "output_type": "stream",
     "text": [
      "341/341 [==============================] - 1s 834us/step - loss: 0.4916 - auc: 0.9365\n"
     ]
    },
    {
     "name": "stderr",
     "output_type": "stream",
     "text": [
      "/var/tmp/pbs.1475247.pbs/ipykernel_2306617/4214815170.py:190: RuntimeWarning: invalid value encountered in divide\n",
      "  X_test = np.where(stdf>0, (X_test - meanf)/stdf, 0)\n"
     ]
    },
    {
     "name": "stdout",
     "output_type": "stream",
     "text": [
      "341/341 [==============================] - 1s 836us/step - loss: 0.4873 - auc: 0.9366\n"
     ]
    },
    {
     "name": "stderr",
     "output_type": "stream",
     "text": [
      "/var/tmp/pbs.1475247.pbs/ipykernel_2306617/4214815170.py:190: RuntimeWarning: invalid value encountered in divide\n",
      "  X_test = np.where(stdf>0, (X_test - meanf)/stdf, 0)\n"
     ]
    },
    {
     "name": "stdout",
     "output_type": "stream",
     "text": [
      "341/341 [==============================] - 1s 782us/step - loss: 0.4950 - auc: 0.9370\n",
      "==========================================\n",
      "============  sex ptb =========\n",
      "==========================================\n",
      "The AUC are [0.93808889 0.93668103 0.93732554 0.93818891 0.93718612 0.93696946\n",
      " 0.93705189 0.93654072 0.93661028 0.93703407]\n",
      "The mean AUC for 10 runs = 0.9372 and the std = 0.0005\n",
      "The f1_score are [0.78241679 0.7798208  0.77952077 0.78761165 0.78009638 0.7801352\n",
      " 0.77980136 0.78273968 0.7827245  0.7789044 ]\n",
      "The mean f1_score for 10 runs = 0.7814 and the std = 0.0025\n",
      "The w_acc are [0.78641263 0.78304526 0.78281929 0.79011083 0.78339561 0.78335736\n",
      " 0.78309118 0.78575656 0.78572402 0.78233481]\n",
      "The mean w_acc for 10 runs = 0.7846 and the std = 0.0023\n",
      "==========================================\n",
      "========  Training Configuration =========\n",
      "==========================================\n"
     ]
    }
   ],
   "source": [
    "test1 = MLP_test()\n",
    "test1.testmlp(runs=10)"
   ]
  },
  {
   "cell_type": "markdown",
   "metadata": {},
   "source": [
    "# CAPE-IDB Test (test2)\n",
    "Run the tests for MLP traind on CAPE-IDB features for BIDMC validated on CODE15 and PTB-XL"
   ]
  },
  {
   "cell_type": "code",
   "execution_count": 26,
   "metadata": {},
   "outputs": [
    {
     "name": "stdout",
     "output_type": "stream",
     "text": [
      "  1/157 [..............................] - ETA: 19s - loss: 0.0128 - mae: 0.0912"
     ]
    },
    {
     "name": "stderr",
     "output_type": "stream",
     "text": [
      "/var/tmp/pbs.1475247.pbs/ipykernel_2306617/4214815170.py:190: RuntimeWarning: invalid value encountered in divide\n",
      "  X_test = np.where(stdf>0, (X_test - meanf)/stdf, 0)\n"
     ]
    },
    {
     "name": "stdout",
     "output_type": "stream",
     "text": [
      "157/157 [==============================] - 0s 723us/step - loss: 0.0118 - mae: 0.0876\n"
     ]
    },
    {
     "name": "stderr",
     "output_type": "stream",
     "text": [
      "/var/tmp/pbs.1475247.pbs/ipykernel_2306617/4214815170.py:190: RuntimeWarning: invalid value encountered in divide\n",
      "  X_test = np.where(stdf>0, (X_test - meanf)/stdf, 0)\n"
     ]
    },
    {
     "name": "stdout",
     "output_type": "stream",
     "text": [
      "5119/5119 [==============================] - 3s 643us/step - loss: 0.0118 - mae: 0.0872\n"
     ]
    },
    {
     "name": "stderr",
     "output_type": "stream",
     "text": [
      "/var/tmp/pbs.1475247.pbs/ipykernel_2306617/4214815170.py:190: RuntimeWarning: invalid value encountered in divide\n",
      "  X_test = np.where(stdf>0, (X_test - meanf)/stdf, 0)\n"
     ]
    },
    {
     "name": "stdout",
     "output_type": "stream",
     "text": [
      "5119/5119 [==============================] - 3s 651us/step - loss: 0.0116 - mae: 0.0861\n"
     ]
    },
    {
     "name": "stderr",
     "output_type": "stream",
     "text": [
      "/var/tmp/pbs.1475247.pbs/ipykernel_2306617/4214815170.py:190: RuntimeWarning: invalid value encountered in divide\n",
      "  X_test = np.where(stdf>0, (X_test - meanf)/stdf, 0)\n"
     ]
    },
    {
     "name": "stdout",
     "output_type": "stream",
     "text": [
      "5119/5119 [==============================] - 3s 619us/step - loss: 0.0113 - mae: 0.0847\n"
     ]
    },
    {
     "name": "stderr",
     "output_type": "stream",
     "text": [
      "/var/tmp/pbs.1475247.pbs/ipykernel_2306617/4214815170.py:190: RuntimeWarning: invalid value encountered in divide\n",
      "  X_test = np.where(stdf>0, (X_test - meanf)/stdf, 0)\n"
     ]
    },
    {
     "name": "stdout",
     "output_type": "stream",
     "text": [
      "5119/5119 [==============================] - 3s 576us/step - loss: 0.0117 - mae: 0.0867\n"
     ]
    },
    {
     "name": "stderr",
     "output_type": "stream",
     "text": [
      "/var/tmp/pbs.1475247.pbs/ipykernel_2306617/4214815170.py:190: RuntimeWarning: invalid value encountered in divide\n",
      "  X_test = np.where(stdf>0, (X_test - meanf)/stdf, 0)\n"
     ]
    },
    {
     "name": "stdout",
     "output_type": "stream",
     "text": [
      "5119/5119 [==============================] - 3s 619us/step - loss: 0.0110 - mae: 0.0835\n"
     ]
    },
    {
     "name": "stderr",
     "output_type": "stream",
     "text": [
      "/var/tmp/pbs.1475247.pbs/ipykernel_2306617/4214815170.py:190: RuntimeWarning: invalid value encountered in divide\n",
      "  X_test = np.where(stdf>0, (X_test - meanf)/stdf, 0)\n"
     ]
    },
    {
     "name": "stdout",
     "output_type": "stream",
     "text": [
      "5119/5119 [==============================] - 3s 603us/step - loss: 0.0117 - mae: 0.0867\n"
     ]
    },
    {
     "name": "stderr",
     "output_type": "stream",
     "text": [
      "/var/tmp/pbs.1475247.pbs/ipykernel_2306617/4214815170.py:190: RuntimeWarning: invalid value encountered in divide\n",
      "  X_test = np.where(stdf>0, (X_test - meanf)/stdf, 0)\n"
     ]
    },
    {
     "name": "stdout",
     "output_type": "stream",
     "text": [
      "5119/5119 [==============================] - 3s 636us/step - loss: 0.0116 - mae: 0.0862\n"
     ]
    },
    {
     "name": "stderr",
     "output_type": "stream",
     "text": [
      "/var/tmp/pbs.1475247.pbs/ipykernel_2306617/4214815170.py:190: RuntimeWarning: invalid value encountered in divide\n",
      "  X_test = np.where(stdf>0, (X_test - meanf)/stdf, 0)\n"
     ]
    },
    {
     "name": "stdout",
     "output_type": "stream",
     "text": [
      "5119/5119 [==============================] - 3s 575us/step - loss: 0.0117 - mae: 0.0867\n"
     ]
    },
    {
     "name": "stderr",
     "output_type": "stream",
     "text": [
      "/var/tmp/pbs.1475247.pbs/ipykernel_2306617/4214815170.py:190: RuntimeWarning: invalid value encountered in divide\n",
      "  X_test = np.where(stdf>0, (X_test - meanf)/stdf, 0)\n"
     ]
    },
    {
     "name": "stdout",
     "output_type": "stream",
     "text": [
      "5119/5119 [==============================] - 3s 649us/step - loss: 0.0113 - mae: 0.0847\n",
      "==========================================\n",
      "============  age code15 =========\n",
      "==========================================\n",
      "The mae are [0.0876108  0.08719251 0.08613192 0.08471415 0.08666378 0.08351032\n",
      " 0.08667801 0.08621008 0.08674522 0.0847149 ]\n",
      "The mean mae for 10 runs = 0.0860 and the std = 0.0012\n",
      "The r2_score are [0.69869801 0.69467107 0.70031435 0.70910323 0.698979   0.71568001\n",
      " 0.69887485 0.69972702 0.69855862 0.70826336]\n",
      "The mean r2_score for 10 runs = 0.7023 and the std = 0.0062\n",
      "The mae_years are [8.761081  8.719261  8.613202  8.47142   8.666372  8.3510275 8.667793\n",
      " 8.621016  8.674532  8.471483 ]\n",
      "The mean mae_years for 10 runs = 8.6017 and the std = 0.1226\n",
      "==========================================\n",
      "========  Training Configuration =========\n",
      "==========================================\n"
     ]
    },
    {
     "name": "stderr",
     "output_type": "stream",
     "text": [
      "/var/tmp/pbs.1475247.pbs/ipykernel_2306617/4214815170.py:190: RuntimeWarning: invalid value encountered in divide\n",
      "  X_test = np.where(stdf>0, (X_test - meanf)/stdf, 0)\n"
     ]
    },
    {
     "name": "stdout",
     "output_type": "stream",
     "text": [
      "label inverted\n",
      "157/157 [==============================] - 0s 836us/step - loss: 0.7140 - auc: 0.9315\n"
     ]
    },
    {
     "name": "stderr",
     "output_type": "stream",
     "text": [
      "/var/tmp/pbs.1475247.pbs/ipykernel_2306617/4214815170.py:190: RuntimeWarning: invalid value encountered in divide\n",
      "  X_test = np.where(stdf>0, (X_test - meanf)/stdf, 0)\n"
     ]
    },
    {
     "name": "stdout",
     "output_type": "stream",
     "text": [
      "label inverted\n",
      "5119/5119 [==============================] - 4s 681us/step - loss: 0.7514 - auc: 0.9299\n"
     ]
    },
    {
     "name": "stderr",
     "output_type": "stream",
     "text": [
      "/var/tmp/pbs.1475247.pbs/ipykernel_2306617/4214815170.py:190: RuntimeWarning: invalid value encountered in divide\n",
      "  X_test = np.where(stdf>0, (X_test - meanf)/stdf, 0)\n"
     ]
    },
    {
     "name": "stdout",
     "output_type": "stream",
     "text": [
      "label inverted\n",
      "5119/5119 [==============================] - 4s 748us/step - loss: 0.7172 - auc: 0.9324\n"
     ]
    },
    {
     "name": "stderr",
     "output_type": "stream",
     "text": [
      "/var/tmp/pbs.1475247.pbs/ipykernel_2306617/4214815170.py:190: RuntimeWarning: invalid value encountered in divide\n",
      "  X_test = np.where(stdf>0, (X_test - meanf)/stdf, 0)\n"
     ]
    },
    {
     "name": "stdout",
     "output_type": "stream",
     "text": [
      "label inverted\n",
      "5119/5119 [==============================] - 4s 700us/step - loss: 0.7266 - auc: 0.9312\n"
     ]
    },
    {
     "name": "stderr",
     "output_type": "stream",
     "text": [
      "/var/tmp/pbs.1475247.pbs/ipykernel_2306617/4214815170.py:190: RuntimeWarning: invalid value encountered in divide\n",
      "  X_test = np.where(stdf>0, (X_test - meanf)/stdf, 0)\n"
     ]
    },
    {
     "name": "stdout",
     "output_type": "stream",
     "text": [
      "label inverted\n",
      "5119/5119 [==============================] - 4s 745us/step - loss: 0.7566 - auc: 0.9314\n"
     ]
    },
    {
     "name": "stderr",
     "output_type": "stream",
     "text": [
      "/var/tmp/pbs.1475247.pbs/ipykernel_2306617/4214815170.py:190: RuntimeWarning: invalid value encountered in divide\n",
      "  X_test = np.where(stdf>0, (X_test - meanf)/stdf, 0)\n"
     ]
    },
    {
     "name": "stdout",
     "output_type": "stream",
     "text": [
      "label inverted\n",
      "5119/5119 [==============================] - 4s 735us/step - loss: 0.7102 - auc: 0.9331\n"
     ]
    },
    {
     "name": "stderr",
     "output_type": "stream",
     "text": [
      "/var/tmp/pbs.1475247.pbs/ipykernel_2306617/4214815170.py:190: RuntimeWarning: invalid value encountered in divide\n",
      "  X_test = np.where(stdf>0, (X_test - meanf)/stdf, 0)\n"
     ]
    },
    {
     "name": "stdout",
     "output_type": "stream",
     "text": [
      "label inverted\n",
      "5119/5119 [==============================] - 4s 770us/step - loss: 0.7110 - auc: 0.9341\n"
     ]
    },
    {
     "name": "stderr",
     "output_type": "stream",
     "text": [
      "/var/tmp/pbs.1475247.pbs/ipykernel_2306617/4214815170.py:190: RuntimeWarning: invalid value encountered in divide\n",
      "  X_test = np.where(stdf>0, (X_test - meanf)/stdf, 0)\n"
     ]
    },
    {
     "name": "stdout",
     "output_type": "stream",
     "text": [
      "label inverted\n",
      "5119/5119 [==============================] - 4s 772us/step - loss: 0.7396 - auc: 0.9323\n"
     ]
    },
    {
     "name": "stderr",
     "output_type": "stream",
     "text": [
      "/var/tmp/pbs.1475247.pbs/ipykernel_2306617/4214815170.py:190: RuntimeWarning: invalid value encountered in divide\n",
      "  X_test = np.where(stdf>0, (X_test - meanf)/stdf, 0)\n"
     ]
    },
    {
     "name": "stdout",
     "output_type": "stream",
     "text": [
      "label inverted\n",
      "5119/5119 [==============================] - 4s 758us/step - loss: 0.7499 - auc: 0.9308\n"
     ]
    },
    {
     "name": "stderr",
     "output_type": "stream",
     "text": [
      "/var/tmp/pbs.1475247.pbs/ipykernel_2306617/4214815170.py:190: RuntimeWarning: invalid value encountered in divide\n",
      "  X_test = np.where(stdf>0, (X_test - meanf)/stdf, 0)\n"
     ]
    },
    {
     "name": "stdout",
     "output_type": "stream",
     "text": [
      "label inverted\n",
      "5119/5119 [==============================] - 4s 715us/step - loss: 0.7254 - auc: 0.9328\n",
      "==========================================\n",
      "============  sex code15 =========\n",
      "==========================================\n",
      "The AUC are [0.93153679 0.92987311 0.93235272 0.93124717 0.93141359 0.93305969\n",
      " 0.93405014 0.93234849 0.93081242 0.93279165]\n",
      "The mean AUC for 10 runs = 0.9319 and the std = 0.0012\n",
      "The f1_score are [0.74176067 0.72837037 0.73993155 0.73575266 0.72422189 0.74051696\n",
      " 0.73668774 0.7248298  0.72494962 0.73034392]\n",
      "The mean f1_score for 10 runs = 0.7327 and the std = 0.0066\n",
      "The w_acc are [0.78003711 0.76938985 0.7786526  0.77529737 0.76617522 0.77906341\n",
      " 0.77600835 0.76669884 0.76674122 0.77101793]\n",
      "The mean w_acc for 10 runs = 0.7729 and the std = 0.0052\n",
      "==========================================\n",
      "========  Training Configuration =========\n",
      "==========================================\n",
      "  1/157 [..............................] - ETA: 19s - loss: 0.0130 - mae: 0.0768"
     ]
    },
    {
     "name": "stderr",
     "output_type": "stream",
     "text": [
      "/var/tmp/pbs.1475247.pbs/ipykernel_2306617/4214815170.py:190: RuntimeWarning: invalid value encountered in divide\n",
      "  X_test = np.where(stdf>0, (X_test - meanf)/stdf, 0)\n"
     ]
    },
    {
     "name": "stdout",
     "output_type": "stream",
     "text": [
      "157/157 [==============================] - 0s 674us/step - loss: 0.0095 - mae: 0.0765\n",
      "  1/341 [..............................] - ETA: 41s - loss: 0.0076 - mae: 0.0668"
     ]
    },
    {
     "name": "stderr",
     "output_type": "stream",
     "text": [
      "/var/tmp/pbs.1475247.pbs/ipykernel_2306617/4214815170.py:190: RuntimeWarning: invalid value encountered in divide\n",
      "  X_test = np.where(stdf>0, (X_test - meanf)/stdf, 0)\n"
     ]
    },
    {
     "name": "stdout",
     "output_type": "stream",
     "text": [
      "341/341 [==============================] - 0s 689us/step - loss: 0.0096 - mae: 0.0768\n",
      "  1/341 [..............................] - ETA: 40s - loss: 0.0075 - mae: 0.0653"
     ]
    },
    {
     "name": "stderr",
     "output_type": "stream",
     "text": [
      "/var/tmp/pbs.1475247.pbs/ipykernel_2306617/4214815170.py:190: RuntimeWarning: invalid value encountered in divide\n",
      "  X_test = np.where(stdf>0, (X_test - meanf)/stdf, 0)\n"
     ]
    },
    {
     "name": "stdout",
     "output_type": "stream",
     "text": [
      "341/341 [==============================] - 0s 692us/step - loss: 0.0096 - mae: 0.0764\n",
      "  1/341 [..............................] - ETA: 41s - loss: 0.0076 - mae: 0.0646"
     ]
    },
    {
     "name": "stderr",
     "output_type": "stream",
     "text": [
      "/var/tmp/pbs.1475247.pbs/ipykernel_2306617/4214815170.py:190: RuntimeWarning: invalid value encountered in divide\n",
      "  X_test = np.where(stdf>0, (X_test - meanf)/stdf, 0)\n"
     ]
    },
    {
     "name": "stdout",
     "output_type": "stream",
     "text": [
      "341/341 [==============================] - 0s 667us/step - loss: 0.0096 - mae: 0.0764\n",
      "  1/341 [..............................] - ETA: 41s - loss: 0.0074 - mae: 0.0673"
     ]
    },
    {
     "name": "stderr",
     "output_type": "stream",
     "text": [
      "/var/tmp/pbs.1475247.pbs/ipykernel_2306617/4214815170.py:190: RuntimeWarning: invalid value encountered in divide\n",
      "  X_test = np.where(stdf>0, (X_test - meanf)/stdf, 0)\n"
     ]
    },
    {
     "name": "stdout",
     "output_type": "stream",
     "text": [
      "341/341 [==============================] - 0s 665us/step - loss: 0.0096 - mae: 0.0765\n",
      "  1/341 [..............................] - ETA: 41s - loss: 0.0069 - mae: 0.0628"
     ]
    },
    {
     "name": "stderr",
     "output_type": "stream",
     "text": [
      "/var/tmp/pbs.1475247.pbs/ipykernel_2306617/4214815170.py:190: RuntimeWarning: invalid value encountered in divide\n",
      "  X_test = np.where(stdf>0, (X_test - meanf)/stdf, 0)\n"
     ]
    },
    {
     "name": "stdout",
     "output_type": "stream",
     "text": [
      "341/341 [==============================] - 0s 659us/step - loss: 0.0098 - mae: 0.0771\n",
      "  1/341 [..............................] - ETA: 41s - loss: 0.0076 - mae: 0.0661"
     ]
    },
    {
     "name": "stderr",
     "output_type": "stream",
     "text": [
      "/var/tmp/pbs.1475247.pbs/ipykernel_2306617/4214815170.py:190: RuntimeWarning: invalid value encountered in divide\n",
      "  X_test = np.where(stdf>0, (X_test - meanf)/stdf, 0)\n"
     ]
    },
    {
     "name": "stdout",
     "output_type": "stream",
     "text": [
      "341/341 [==============================] - 0s 703us/step - loss: 0.0097 - mae: 0.0770\n",
      "  1/341 [..............................] - ETA: 40s - loss: 0.0075 - mae: 0.0655"
     ]
    },
    {
     "name": "stderr",
     "output_type": "stream",
     "text": [
      "/var/tmp/pbs.1475247.pbs/ipykernel_2306617/4214815170.py:190: RuntimeWarning: invalid value encountered in divide\n",
      "  X_test = np.where(stdf>0, (X_test - meanf)/stdf, 0)\n"
     ]
    },
    {
     "name": "stdout",
     "output_type": "stream",
     "text": [
      "341/341 [==============================] - 0s 663us/step - loss: 0.0096 - mae: 0.0766\n",
      "  1/341 [..............................] - ETA: 40s - loss: 0.0077 - mae: 0.0687"
     ]
    },
    {
     "name": "stderr",
     "output_type": "stream",
     "text": [
      "/var/tmp/pbs.1475247.pbs/ipykernel_2306617/4214815170.py:190: RuntimeWarning: invalid value encountered in divide\n",
      "  X_test = np.where(stdf>0, (X_test - meanf)/stdf, 0)\n"
     ]
    },
    {
     "name": "stdout",
     "output_type": "stream",
     "text": [
      "341/341 [==============================] - 0s 708us/step - loss: 0.0097 - mae: 0.0772\n",
      "  1/341 [..............................] - ETA: 40s - loss: 0.0071 - mae: 0.0648"
     ]
    },
    {
     "name": "stderr",
     "output_type": "stream",
     "text": [
      "/var/tmp/pbs.1475247.pbs/ipykernel_2306617/4214815170.py:190: RuntimeWarning: invalid value encountered in divide\n",
      "  X_test = np.where(stdf>0, (X_test - meanf)/stdf, 0)\n"
     ]
    },
    {
     "name": "stdout",
     "output_type": "stream",
     "text": [
      "341/341 [==============================] - 0s 689us/step - loss: 0.0097 - mae: 0.0770\n",
      "==========================================\n",
      "============  age ptb =========\n",
      "==========================================\n",
      "The mae are [0.07646848 0.07675214 0.07643268 0.07638226 0.07648179 0.07713861\n",
      " 0.07698655 0.07656959 0.07719709 0.07700164]\n",
      "The mean mae for 10 runs = 0.0767 and the std = 0.0003\n",
      "The r2_score are [0.67094107 0.67199067 0.67318751 0.67398996 0.67475776 0.66745269\n",
      " 0.66909172 0.67288791 0.66909432 0.6684285 ]\n",
      "The mean r2_score for 10 runs = 0.6712 and the std = 0.0024\n",
      "The mae_years are [7.4875245 7.5216627 7.4908338 7.4909554 7.4950814 7.5586815 7.5438495\n",
      " 7.5004635 7.567091  7.5481086]\n",
      "The mean mae_years for 10 runs = 7.5204 and the std = 0.0297\n",
      "==========================================\n",
      "========  Training Configuration =========\n",
      "==========================================\n"
     ]
    },
    {
     "name": "stderr",
     "output_type": "stream",
     "text": [
      "/var/tmp/pbs.1475247.pbs/ipykernel_2306617/4214815170.py:190: RuntimeWarning: invalid value encountered in divide\n",
      "  X_test = np.where(stdf>0, (X_test - meanf)/stdf, 0)\n"
     ]
    },
    {
     "name": "stdout",
     "output_type": "stream",
     "text": [
      "157/157 [==============================] - 0s 859us/step - loss: 0.4356 - auc: 0.9474\n"
     ]
    },
    {
     "name": "stderr",
     "output_type": "stream",
     "text": [
      "/var/tmp/pbs.1475247.pbs/ipykernel_2306617/4214815170.py:190: RuntimeWarning: invalid value encountered in divide\n",
      "  X_test = np.where(stdf>0, (X_test - meanf)/stdf, 0)\n"
     ]
    },
    {
     "name": "stdout",
     "output_type": "stream",
     "text": [
      "341/341 [==============================] - 1s 797us/step - loss: 0.4443 - auc: 0.9467\n"
     ]
    },
    {
     "name": "stderr",
     "output_type": "stream",
     "text": [
      "/var/tmp/pbs.1475247.pbs/ipykernel_2306617/4214815170.py:190: RuntimeWarning: invalid value encountered in divide\n",
      "  X_test = np.where(stdf>0, (X_test - meanf)/stdf, 0)\n"
     ]
    },
    {
     "name": "stdout",
     "output_type": "stream",
     "text": [
      "341/341 [==============================] - 1s 826us/step - loss: 0.4433 - auc: 0.9467\n"
     ]
    },
    {
     "name": "stderr",
     "output_type": "stream",
     "text": [
      "/var/tmp/pbs.1475247.pbs/ipykernel_2306617/4214815170.py:190: RuntimeWarning: invalid value encountered in divide\n",
      "  X_test = np.where(stdf>0, (X_test - meanf)/stdf, 0)\n"
     ]
    },
    {
     "name": "stdout",
     "output_type": "stream",
     "text": [
      "341/341 [==============================] - 1s 840us/step - loss: 0.4328 - auc: 0.9470\n"
     ]
    },
    {
     "name": "stderr",
     "output_type": "stream",
     "text": [
      "/var/tmp/pbs.1475247.pbs/ipykernel_2306617/4214815170.py:190: RuntimeWarning: invalid value encountered in divide\n",
      "  X_test = np.where(stdf>0, (X_test - meanf)/stdf, 0)\n"
     ]
    },
    {
     "name": "stdout",
     "output_type": "stream",
     "text": [
      "341/341 [==============================] - 1s 834us/step - loss: 0.4422 - auc: 0.9472\n"
     ]
    },
    {
     "name": "stderr",
     "output_type": "stream",
     "text": [
      "/var/tmp/pbs.1475247.pbs/ipykernel_2306617/4214815170.py:190: RuntimeWarning: invalid value encountered in divide\n",
      "  X_test = np.where(stdf>0, (X_test - meanf)/stdf, 0)\n"
     ]
    },
    {
     "name": "stdout",
     "output_type": "stream",
     "text": [
      "341/341 [==============================] - 0s 778us/step - loss: 0.4348 - auc: 0.9467\n"
     ]
    },
    {
     "name": "stderr",
     "output_type": "stream",
     "text": [
      "/var/tmp/pbs.1475247.pbs/ipykernel_2306617/4214815170.py:190: RuntimeWarning: invalid value encountered in divide\n",
      "  X_test = np.where(stdf>0, (X_test - meanf)/stdf, 0)\n"
     ]
    },
    {
     "name": "stdout",
     "output_type": "stream",
     "text": [
      "341/341 [==============================] - 0s 750us/step - loss: 0.4410 - auc: 0.9464\n"
     ]
    },
    {
     "name": "stderr",
     "output_type": "stream",
     "text": [
      "/var/tmp/pbs.1475247.pbs/ipykernel_2306617/4214815170.py:190: RuntimeWarning: invalid value encountered in divide\n",
      "  X_test = np.where(stdf>0, (X_test - meanf)/stdf, 0)\n"
     ]
    },
    {
     "name": "stdout",
     "output_type": "stream",
     "text": [
      "341/341 [==============================] - 0s 780us/step - loss: 0.4499 - auc: 0.9466\n"
     ]
    },
    {
     "name": "stderr",
     "output_type": "stream",
     "text": [
      "/var/tmp/pbs.1475247.pbs/ipykernel_2306617/4214815170.py:190: RuntimeWarning: invalid value encountered in divide\n",
      "  X_test = np.where(stdf>0, (X_test - meanf)/stdf, 0)\n"
     ]
    },
    {
     "name": "stdout",
     "output_type": "stream",
     "text": [
      "341/341 [==============================] - 1s 798us/step - loss: 0.4450 - auc: 0.9471\n"
     ]
    },
    {
     "name": "stderr",
     "output_type": "stream",
     "text": [
      "/var/tmp/pbs.1475247.pbs/ipykernel_2306617/4214815170.py:190: RuntimeWarning: invalid value encountered in divide\n",
      "  X_test = np.where(stdf>0, (X_test - meanf)/stdf, 0)\n"
     ]
    },
    {
     "name": "stdout",
     "output_type": "stream",
     "text": [
      "341/341 [==============================] - 0s 744us/step - loss: 0.4487 - auc: 0.9463\n",
      "==========================================\n",
      "============  sex ptb =========\n",
      "==========================================\n",
      "The AUC are [0.94741017 0.94673878 0.94670182 0.94702464 0.94724494 0.94674152\n",
      " 0.94641429 0.94661927 0.94711125 0.94630003]\n",
      "The mean AUC for 10 runs = 0.9468 and the std = 0.0003\n",
      "The f1_score are [0.80932201 0.80405911 0.80451994 0.80808302 0.80522622 0.80839871\n",
      " 0.80228148 0.79836658 0.80214893 0.79965764]\n",
      "The mean f1_score for 10 runs = 0.8042 and the std = 0.0035\n",
      "The w_acc are [0.81078767 0.80511902 0.80550393 0.80878974 0.80618749 0.80908079\n",
      " 0.80343787 0.79983614 0.80337272 0.80102905]\n",
      "The mean w_acc for 10 runs = 0.8053 and the std = 0.0034\n",
      "==========================================\n",
      "========  Training Configuration =========\n",
      "==========================================\n"
     ]
    }
   ],
   "source": [
    "test2 = MLP_test()\n",
    "featnames = {}\n",
    "featnames['code15'] = 'CAPE_feats_BTCSV_IDB_CODE15.h5'\n",
    "featnames['ptb'] = 'CAPE_feats_BTCSV_IDB_PTBXL.h5'\n",
    "test2.featnames = featnames\n",
    "test2.model_path =os.path.join('MLP_models', 'MLP_CAPE_IDB_BTCSV')\n",
    "test2.name = f'MLP_code15_age_sex_runs10_seed10_CAPE_BTCSV_IDB'\n",
    "test2.result_dir = os.path.join(test2.outdir, test2.name)\n",
    "test2.testmlp(runs=10)"
   ]
  },
  {
   "cell_type": "markdown",
   "metadata": {},
   "source": [
    "# test1 metrics\n",
    "Get the statistics of the selected metrics from test1"
   ]
  },
  {
   "cell_type": "code",
   "execution_count": 27,
   "metadata": {},
   "outputs": [
    {
     "data": {
      "text/html": [
       "<div>\n",
       "<style scoped>\n",
       "    .dataframe tbody tr th:only-of-type {\n",
       "        vertical-align: middle;\n",
       "    }\n",
       "\n",
       "    .dataframe tbody tr th {\n",
       "        vertical-align: top;\n",
       "    }\n",
       "\n",
       "    .dataframe thead th {\n",
       "        text-align: right;\n",
       "    }\n",
       "</style>\n",
       "<table border=\"1\" class=\"dataframe\">\n",
       "  <thead>\n",
       "    <tr style=\"text-align: right;\">\n",
       "      <th></th>\n",
       "      <th>code15 sex</th>\n",
       "      <th>ptb sex</th>\n",
       "      <th>code15 age</th>\n",
       "      <th>ptb age</th>\n",
       "      <th>mean AUC</th>\n",
       "      <th>mean MAE</th>\n",
       "    </tr>\n",
       "  </thead>\n",
       "  <tbody>\n",
       "    <tr>\n",
       "      <th>count</th>\n",
       "      <td>10.000000</td>\n",
       "      <td>10.000000</td>\n",
       "      <td>10.000000</td>\n",
       "      <td>10.000000</td>\n",
       "      <td>10.000000</td>\n",
       "      <td>10.000000</td>\n",
       "    </tr>\n",
       "    <tr>\n",
       "      <th>mean</th>\n",
       "      <td>0.601770</td>\n",
       "      <td>0.937168</td>\n",
       "      <td>24.623518</td>\n",
       "      <td>7.615591</td>\n",
       "      <td>0.769469</td>\n",
       "      <td>16.119554</td>\n",
       "    </tr>\n",
       "    <tr>\n",
       "      <th>std</th>\n",
       "      <td>0.048017</td>\n",
       "      <td>0.000570</td>\n",
       "      <td>7.657434</td>\n",
       "      <td>0.045290</td>\n",
       "      <td>0.023863</td>\n",
       "      <td>3.835890</td>\n",
       "    </tr>\n",
       "    <tr>\n",
       "      <th>min</th>\n",
       "      <td>0.543740</td>\n",
       "      <td>0.936541</td>\n",
       "      <td>15.611590</td>\n",
       "      <td>7.551957</td>\n",
       "      <td>0.740915</td>\n",
       "      <td>11.593481</td>\n",
       "    </tr>\n",
       "    <tr>\n",
       "      <th>25%</th>\n",
       "      <td>0.565312</td>\n",
       "      <td>0.936753</td>\n",
       "      <td>17.760929</td>\n",
       "      <td>7.582522</td>\n",
       "      <td>0.751041</td>\n",
       "      <td>12.686303</td>\n",
       "    </tr>\n",
       "    <tr>\n",
       "      <th>50%</th>\n",
       "      <td>0.597507</td>\n",
       "      <td>0.937043</td>\n",
       "      <td>24.552170</td>\n",
       "      <td>7.609891</td>\n",
       "      <td>0.767543</td>\n",
       "      <td>16.101849</td>\n",
       "    </tr>\n",
       "    <tr>\n",
       "      <th>75%</th>\n",
       "      <td>0.622193</td>\n",
       "      <td>0.937291</td>\n",
       "      <td>29.292943</td>\n",
       "      <td>7.633510</td>\n",
       "      <td>0.779673</td>\n",
       "      <td>18.454368</td>\n",
       "    </tr>\n",
       "    <tr>\n",
       "      <th>max</th>\n",
       "      <td>0.695050</td>\n",
       "      <td>0.938189</td>\n",
       "      <td>38.440530</td>\n",
       "      <td>7.689601</td>\n",
       "      <td>0.815795</td>\n",
       "      <td>23.023429</td>\n",
       "    </tr>\n",
       "    <tr>\n",
       "      <th>SE</th>\n",
       "      <td>0.015184</td>\n",
       "      <td>0.000180</td>\n",
       "      <td>2.421493</td>\n",
       "      <td>0.014322</td>\n",
       "      <td>0.007546</td>\n",
       "      <td>1.213015</td>\n",
       "    </tr>\n",
       "  </tbody>\n",
       "</table>\n",
       "</div>"
      ],
      "text/plain": [
       "       code15 sex    ptb sex  code15 age    ptb age   mean AUC   mean MAE\n",
       "count   10.000000  10.000000   10.000000  10.000000  10.000000  10.000000\n",
       "mean     0.601770   0.937168   24.623518   7.615591   0.769469  16.119554\n",
       "std      0.048017   0.000570    7.657434   0.045290   0.023863   3.835890\n",
       "min      0.543740   0.936541   15.611590   7.551957   0.740915  11.593481\n",
       "25%      0.565312   0.936753   17.760929   7.582522   0.751041  12.686303\n",
       "50%      0.597507   0.937043   24.552170   7.609891   0.767543  16.101849\n",
       "75%      0.622193   0.937291   29.292943   7.633510   0.779673  18.454368\n",
       "max      0.695050   0.938189   38.440530   7.689601   0.815795  23.023429\n",
       "SE       0.015184   0.000180    2.421493   0.014322   0.007546   1.213015"
      ]
     },
     "execution_count": 27,
     "metadata": {},
     "output_type": "execute_result"
    }
   ],
   "source": [
    "df1 = test1.get_stats()\n",
    "df_stats1 = test1.df_describe(df1)\n",
    "df_stats1"
   ]
  },
  {
   "cell_type": "markdown",
   "metadata": {},
   "source": [
    "# test2 metrics\n",
    "Get the statistics of the selected metrics from test2"
   ]
  },
  {
   "cell_type": "code",
   "execution_count": 28,
   "metadata": {},
   "outputs": [
    {
     "data": {
      "text/html": [
       "<div>\n",
       "<style scoped>\n",
       "    .dataframe tbody tr th:only-of-type {\n",
       "        vertical-align: middle;\n",
       "    }\n",
       "\n",
       "    .dataframe tbody tr th {\n",
       "        vertical-align: top;\n",
       "    }\n",
       "\n",
       "    .dataframe thead th {\n",
       "        text-align: right;\n",
       "    }\n",
       "</style>\n",
       "<table border=\"1\" class=\"dataframe\">\n",
       "  <thead>\n",
       "    <tr style=\"text-align: right;\">\n",
       "      <th></th>\n",
       "      <th>code15 sex</th>\n",
       "      <th>ptb sex</th>\n",
       "      <th>code15 age</th>\n",
       "      <th>ptb age</th>\n",
       "      <th>mean AUC</th>\n",
       "      <th>mean MAE</th>\n",
       "    </tr>\n",
       "  </thead>\n",
       "  <tbody>\n",
       "    <tr>\n",
       "      <th>count</th>\n",
       "      <td>10.000000</td>\n",
       "      <td>10.000000</td>\n",
       "      <td>10.000000</td>\n",
       "      <td>10.000000</td>\n",
       "      <td>10.000000</td>\n",
       "      <td>10.000000</td>\n",
       "    </tr>\n",
       "    <tr>\n",
       "      <th>mean</th>\n",
       "      <td>0.931949</td>\n",
       "      <td>0.946831</td>\n",
       "      <td>8.601719</td>\n",
       "      <td>7.520425</td>\n",
       "      <td>0.939390</td>\n",
       "      <td>8.061072</td>\n",
       "    </tr>\n",
       "    <tr>\n",
       "      <th>std</th>\n",
       "      <td>0.001212</td>\n",
       "      <td>0.000358</td>\n",
       "      <td>0.129250</td>\n",
       "      <td>0.031314</td>\n",
       "      <td>0.000522</td>\n",
       "      <td>0.061335</td>\n",
       "    </tr>\n",
       "    <tr>\n",
       "      <th>min</th>\n",
       "      <td>0.929873</td>\n",
       "      <td>0.946300</td>\n",
       "      <td>8.351028</td>\n",
       "      <td>7.487525</td>\n",
       "      <td>0.938306</td>\n",
       "      <td>7.954854</td>\n",
       "    </tr>\n",
       "    <tr>\n",
       "      <th>25%</th>\n",
       "      <td>0.931289</td>\n",
       "      <td>0.946640</td>\n",
       "      <td>8.506913</td>\n",
       "      <td>7.491987</td>\n",
       "      <td>0.939184</td>\n",
       "      <td>8.020351</td>\n",
       "    </tr>\n",
       "    <tr>\n",
       "      <th>50%</th>\n",
       "      <td>0.931943</td>\n",
       "      <td>0.946740</td>\n",
       "      <td>8.643694</td>\n",
       "      <td>7.511063</td>\n",
       "      <td>0.939479</td>\n",
       "      <td>8.070733</td>\n",
       "    </tr>\n",
       "    <tr>\n",
       "      <th>75%</th>\n",
       "      <td>0.932682</td>\n",
       "      <td>0.947090</td>\n",
       "      <td>8.672847</td>\n",
       "      <td>7.547044</td>\n",
       "      <td>0.939541</td>\n",
       "      <td>8.116802</td>\n",
       "    </tr>\n",
       "    <tr>\n",
       "      <th>max</th>\n",
       "      <td>0.934050</td>\n",
       "      <td>0.947410</td>\n",
       "      <td>8.761081</td>\n",
       "      <td>7.567091</td>\n",
       "      <td>0.940232</td>\n",
       "      <td>8.124303</td>\n",
       "    </tr>\n",
       "    <tr>\n",
       "      <th>SE</th>\n",
       "      <td>0.000383</td>\n",
       "      <td>0.000113</td>\n",
       "      <td>0.040872</td>\n",
       "      <td>0.009902</td>\n",
       "      <td>0.000165</td>\n",
       "      <td>0.019396</td>\n",
       "    </tr>\n",
       "  </tbody>\n",
       "</table>\n",
       "</div>"
      ],
      "text/plain": [
       "       code15 sex    ptb sex  code15 age    ptb age   mean AUC   mean MAE\n",
       "count   10.000000  10.000000   10.000000  10.000000  10.000000  10.000000\n",
       "mean     0.931949   0.946831    8.601719   7.520425   0.939390   8.061072\n",
       "std      0.001212   0.000358    0.129250   0.031314   0.000522   0.061335\n",
       "min      0.929873   0.946300    8.351028   7.487525   0.938306   7.954854\n",
       "25%      0.931289   0.946640    8.506913   7.491987   0.939184   8.020351\n",
       "50%      0.931943   0.946740    8.643694   7.511063   0.939479   8.070733\n",
       "75%      0.932682   0.947090    8.672847   7.547044   0.939541   8.116802\n",
       "max      0.934050   0.947410    8.761081   7.567091   0.940232   8.124303\n",
       "SE       0.000383   0.000113    0.040872   0.009902   0.000165   0.019396"
      ]
     },
     "execution_count": 28,
     "metadata": {},
     "output_type": "execute_result"
    }
   ],
   "source": [
    "df2 = test2.get_stats()\n",
    "df_stats2 = test2.df_describe(df2)\n",
    "df_stats2"
   ]
  },
  {
   "cell_type": "markdown",
   "metadata": {},
   "source": [
    "# Comparing CAPE vs CAPE-IDB (test1 vs. test2)"
   ]
  },
  {
   "cell_type": "code",
   "execution_count": 29,
   "metadata": {},
   "outputs": [],
   "source": [
    "df_combined = df1.copy()\n",
    "for col in df2.columns:\n",
    "    df_combined[f'{col}_IDB'] = df2[col]\n",
    "df1['label'] = ['CAPE']* len(df1)\n",
    "df2['label'] = ['CAPE_IDB']* len(df2)\n",
    "combined = pd.concat([df1, df2], axis=0)  \n",
    "combined = combined.rename(columns={'code15 sex': 'CODE15 Sex', 'ptb sex': 'PTB-XL Sex', 'code15 age': 'CODE15 Age', 'ptb age': 'PTB-XL Age'})"
   ]
  },
  {
   "cell_type": "markdown",
   "metadata": {},
   "source": [
    "**Age  MAE**"
   ]
  },
  {
   "cell_type": "code",
   "execution_count": 30,
   "metadata": {},
   "outputs": [
    {
     "data": {
      "image/png": "[encoded data removed]",
      "text/plain": [
       "<Figure size 400x300 with 1 Axes>"
      ]
     },
     "metadata": {},
     "output_type": "display_data"
    }
   ],
   "source": [
    "import seaborn as sns\n",
    "import matplotlib.pyplot as plt\n",
    "out_dir = os.path.join('results', 'Comparing_CAPE_IDB')\n",
    "u.safe_mkdir(out_dir)\n",
    "new_bidmc =pd.melt(combined, id_vars='label', var_name='AGE [years]', value_name='AUC/MAE').dropna()\n",
    "sns.set(font_scale=1.1)\n",
    "sns.set_style(style='white')\n",
    "fig, ax = plt.subplots(figsize=(4, 3))\n",
    "sns.barplot(new_bidmc,  x= 'AGE [years]', y = 'AUC/MAE', \n",
    "            order= ['CODE15 Age', 'PTB-XL Age', 'mean MAE'], \n",
    "            hue='label', width=0.8, \n",
    "            #hue_order = ['bidmc', 'code', 'shanghai', 'ptb', 'ukb'] \n",
    "            )\n",
    "plt.ylabel('MAE')\n",
    "#plt.ylim(0.5, 1.05)\n",
    "plt.savefig(os.path.join(out_dir, 'bar_age.pdf'))"
   ]
  },
  {
   "cell_type": "markdown",
   "metadata": {},
   "source": [
    "**Sex AUC**"
   ]
  },
  {
   "cell_type": "code",
   "execution_count": 31,
   "metadata": {},
   "outputs": [
    {
     "data": {
      "image/png": "[encoded data removed]",
      "text/plain": [
       "<Figure size 400x300 with 1 Axes>"
      ]
     },
     "metadata": {},
     "output_type": "display_data"
    }
   ],
   "source": [
    "out_dir = os.path.join('results', 'Comparing_CAPE_IDB')\n",
    "u.safe_mkdir(out_dir)\n",
    "new_bidmc =pd.melt(combined, id_vars='label', var_name='Sex', value_name='AUC/MAE').dropna()\n",
    "sns.set(font_scale=1.1)\n",
    "sns.set_style(style='white')\n",
    "fig, ax = plt.subplots(figsize=(4, 3))\n",
    "sns.barplot(new_bidmc,  x= 'Sex', y = 'AUC/MAE', \n",
    "            order= ['CODE15 Sex', 'PTB-XL Sex', 'mean AUC'], \n",
    "            hue='label', width=0.8, \n",
    "            #hue_order = ['bidmc', 'code', 'shanghai', 'ptb', 'ukb'] \n",
    "            )\n",
    "plt.ylabel('AUC')\n",
    "plt.ylim(0.5, 1.0)\n",
    "plt.savefig(os.path.join(out_dir, 'bar_sex.pdf'))"
   ]
  },
  {
   "cell_type": "markdown",
   "metadata": {},
   "source": [
    "# Plotting age distributions for 10k samples"
   ]
  },
  {
   "cell_type": "code",
   "execution_count": 34,
   "metadata": {},
   "outputs": [],
   "source": [
    "label = 'age'\n",
    "y1, y_pred1 = test1.get_pred(label=label) \n",
    "y2, y_pred2 = test2.get_pred(label=label) "
   ]
  },
  {
   "cell_type": "code",
   "execution_count": 37,
   "metadata": {},
   "outputs": [
    {
     "data": {
      "image/png": "[encoded data removed]",
      "text/plain": [
       "<Figure size 640x480 with 1 Axes>"
      ]
     },
     "metadata": {},
     "output_type": "display_data"
    }
   ],
   "source": [
    "import matplotlib.patches as mpatches\n",
    "datasets = ['CODE15', 'PTB-XL']\n",
    "colors = ['#e41a1c', '#377eb8', '#4daf4a', '#984ea3', '#ff7f00']\n",
    "plt.rcParams.update({'font.size': 14})\n",
    "age_list = y1\n",
    "    \n",
    "plots = plt.violinplot(age_list, showmeans=True)\n",
    "labels = []\n",
    "datasets_upper =[]\n",
    "for pc, color, dataset in zip(plots['bodies'], colors, datasets):\n",
    "    #dataset = dataset.upper()\n",
    "    #datasets_upper.append(dataset)\n",
    "    pc.set_facecolor(color)\n",
    "    labels.append(mpatches.Patch(color=color, label=dataset, alpha=0.5))\n",
    "plt.legend(handles=labels, fontsize=10)\n",
    "# Set the color of the median lines\n",
    "plots['cmeans'].set_colors(colors)\n",
    "plots['cbars'].set_colors(colors)\n",
    "plots['cmins'].set_colors(colors)\n",
    "plots['cmaxes'].set_colors(colors)\n",
    "plt.xlabel('Cohorts')\n",
    "plt.ylabel('Age [years]')\n",
    "plt.xticks(np.arange(len(datasets))+1, datasets)\n",
    "plt.ylim(0, 131)\n",
    "plt.title('Age')\n",
    "#plt.legend()\n",
    "plt.savefig(os.path.join(out_dir, f'{dataset}_age.pdf'))"
   ]
  },
  {
   "cell_type": "markdown",
   "metadata": {},
   "source": [
    "# Plotting age MAE distributions for 10k samples for CAPE test1 (run1)"
   ]
  },
  {
   "cell_type": "code",
   "execution_count": 41,
   "metadata": {},
   "outputs": [
    {
     "data": {
      "image/png": "[encoded data removed]",
      "text/plain": [
       "<Figure size 640x480 with 1 Axes>"
      ]
     },
     "metadata": {},
     "output_type": "display_data"
    }
   ],
   "source": [
    "import math\n",
    "from scipy.interpolate import make_interp_spline\n",
    "import matplotlib.patches as mpatches\n",
    "plt.rcParams.update({'font.size': 14})\n",
    "offset=0\n",
    "xticks = []\n",
    "nbins=30\n",
    "agebins = [0, 10, 20, 30, 40, 50, 60, 70, 80, 90, 120]\n",
    "wbins = 10\n",
    "colors = ['#e41a1c', '#377eb8']#, '#4daf4a', '#984ea3', '#ff7f00']\n",
    "labels = []\n",
    "for i, dataset in enumerate(datasets):       \n",
    "    mae_age = np.absolute(y1[i] - y_pred1[i])\n",
    "    nbins = int(math.ceil((y1[i].max() - y_pred1[i].min())/wbins))\n",
    "    values, bins =  np.histogram(y1[i], weights = mae_age, bins=nbins) \n",
    "    counts, _ =  np.histogram(y1[i], bins=bins)\n",
    "    valid = counts>0\n",
    "    counts = counts[valid]\n",
    "    values = values[valid]\n",
    "    n_values = values/counts\n",
    "    bin_centers = (bins[:-1] + bins[1:]) / 2\n",
    "\n",
    "    x_left = -n_values\n",
    "    x_right = n_values\n",
    "    offset = offset + np.amax(n_values)+20\n",
    "    min_pt = bin_centers[np.argmin(n_values)]\n",
    "    if i==0: bidmc_min = min_pt\n",
    "    xticks.append(offset)\n",
    "    plt.vlines(offset, bin_centers.min(), bin_centers.max(), color=colors[i])\n",
    "    plt.hlines(min_pt, offset-5, offset+5, color=colors[i])\n",
    "    # Smooth the curve using interpolation\n",
    "    spline = make_interp_spline(bin_centers, x_left, k=3)\n",
    "    x_smooth = np.linspace(bin_centers.min(), bin_centers.max(), 200)\n",
    "    y_smooth_left = spline(x_smooth)\n",
    "\n",
    "    spline_right = make_interp_spline(bin_centers, x_right, k=3)\n",
    "    y_smooth_right = spline_right(x_smooth)\n",
    "    y_smooth_left = np.array(y_smooth_left) + offset\n",
    "    y_smooth_right = np.array(y_smooth_right) + offset\n",
    "    # Plot\n",
    "    labels.append(mpatches.Patch(color=colors[i], label=datasets[i], alpha=0.5))\n",
    "    plt.fill_betweenx(x_smooth, y_smooth_left, y_smooth_right, color=colors[i], alpha=0.3)\n",
    "\n",
    "plt.ylabel('Age [year]')\n",
    "plt.xlabel('MAE normalized per bin')\n",
    "plt.xticks(xticks, datasets)\n",
    "plt.ylim(0, 130)\n",
    "plt.legend(handles=labels, fontsize=10)\n",
    "plt.savefig(os.path.join(out_dir, f'voilin_mae_age_CAPE.pdf'))\n"
   ]
  },
  {
   "cell_type": "markdown",
   "metadata": {},
   "source": [
    "# Plotting age MAE distributions for 10k samples for CAPE-IDB test1 (run1)"
   ]
  },
  {
   "cell_type": "code",
   "execution_count": 42,
   "metadata": {},
   "outputs": [
    {
     "data": {
      "image/png": "[encoded data removed]",
      "text/plain": [
       "<Figure size 640x480 with 1 Axes>"
      ]
     },
     "metadata": {},
     "output_type": "display_data"
    }
   ],
   "source": [
    "import math\n",
    "from scipy.interpolate import make_interp_spline\n",
    "import matplotlib.patches as mpatches\n",
    "plt.rcParams.update({'font.size': 14})\n",
    "offset=0\n",
    "xticks = []\n",
    "nbins=30\n",
    "agebins = [0, 10, 20, 30, 40, 50, 60, 70, 80, 90, 120]\n",
    "wbins = 10\n",
    "colors = ['#e41a1c', '#377eb8']#, '#4daf4a', '#984ea3', '#ff7f00']\n",
    "labels = []\n",
    "for i, dataset in enumerate(datasets):       \n",
    "    mae_age = np.absolute(y2[i] - y_pred2[i])\n",
    "    nbins = int(math.ceil((y2[i].max() - y_pred2[i].min())/wbins))\n",
    "    values, bins =  np.histogram(y2[i], weights = mae_age, bins=nbins) \n",
    "    counts, _ =  np.histogram(y2[i], bins=bins)\n",
    "    valid = counts>0\n",
    "    counts = counts[valid]\n",
    "    values = values[valid]\n",
    "    n_values = values/counts\n",
    "    bin_centers = (bins[:-1] + bins[1:]) / 2\n",
    "\n",
    "    x_left = -n_values\n",
    "    x_right = n_values\n",
    "    offset = offset + np.amax(n_values)+20\n",
    "    min_pt = bin_centers[np.argmin(n_values)]\n",
    "    if i==0: bidmc_min = min_pt\n",
    "    xticks.append(offset)\n",
    "    plt.vlines(offset, bin_centers.min(), bin_centers.max(), color=colors[i])\n",
    "    plt.hlines(min_pt, offset-5, offset+5, color=colors[i])\n",
    "    # Smooth the curve using interpolation\n",
    "    spline = make_interp_spline(bin_centers, x_left, k=3)\n",
    "    x_smooth = np.linspace(bin_centers.min(), bin_centers.max(), 200)\n",
    "    y_smooth_left = spline(x_smooth)\n",
    "\n",
    "    spline_right = make_interp_spline(bin_centers, x_right, k=3)\n",
    "    y_smooth_right = spline_right(x_smooth)\n",
    "    y_smooth_left = np.array(y_smooth_left) + offset\n",
    "    y_smooth_right = np.array(y_smooth_right) + offset\n",
    "    # Plot\n",
    "    labels.append(mpatches.Patch(color=colors[i], label=datasets[i], alpha=0.5))\n",
    "    plt.fill_betweenx(x_smooth, y_smooth_left, y_smooth_right, color=colors[i], alpha=0.3)\n",
    "    \n",
    "plt.ylabel('Age [year]')\n",
    "plt.xlabel('MAE normalized per bin')\n",
    "plt.xticks(xticks, datasets)\n",
    "plt.ylim(0, 130)\n",
    "plt.legend(handles=labels, fontsize=10)\n",
    "plt.savefig(os.path.join(out_dir, f'voilin_mae_age_CAPE_IDB.pdf'))\n"
   ]
  },
  {
   "cell_type": "code",
   "execution_count": null,
   "metadata": {},
   "outputs": [],
   "source": []
  }
 ],
 "metadata": {
  "kernelspec": {
   "display_name": "Python [conda env:ecg]",
   "language": "python",
   "name": "conda-env-ecg-py"
  },
  "language_info": {
   "codemirror_mode": {
    "name": "ipython",
    "version": 3
   },
   "file_extension": ".py",
   "mimetype": "text/x-python",
   "name": "python",
   "nbconvert_exporter": "python",
   "pygments_lexer": "ipython3",
   "version": "3.9.19"
  }
 },
 "nbformat": 4,
 "nbformat_minor": 2
}
